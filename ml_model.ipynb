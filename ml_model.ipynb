{
  "nbformat": 4,
  "nbformat_minor": 0,
  "metadata": {
    "colab": {
      "name": "ml-model.ipynb",
      "provenance": [],
      "authorship_tag": "ABX9TyO+CHEhe0SQdd+bI5BQ5Grs",
      "include_colab_link": true
    },
    "kernelspec": {
      "name": "python3",
      "display_name": "Python 3"
    }
  },
  "cells": [
    {
      "cell_type": "markdown",
      "metadata": {
        "id": "view-in-github",
        "colab_type": "text"
      },
      "source": [
        "<a href=\"https://colab.research.google.com/github/marcellinusc/solar-radiation/blob/data-prep/ml_model.ipynb\" target=\"_parent\"><img src=\"https://colab.research.google.com/assets/colab-badge.svg\" alt=\"Open In Colab\"/></a>"
      ]
    },
    {
      "cell_type": "markdown",
      "metadata": {
        "id": "7n3A_4k9Cqd_",
        "colab_type": "text"
      },
      "source": [
        "##Initialization"
      ]
    },
    {
      "cell_type": "code",
      "metadata": {
        "id": "V4PdA4irqEaK",
        "colab_type": "code",
        "cellView": "form",
        "colab": {}
      },
      "source": [
        "#@title Run on TensorFlow 2.x\n",
        "\n",
        "%tensorflow_version 2.x\n",
        "from __future__ import absolute_import, division\n",
        "from __future__ import print_function, unicode_literals"
      ],
      "execution_count": 0,
      "outputs": []
    },
    {
      "cell_type": "code",
      "metadata": {
        "id": "Rbg1PDRauaer",
        "colab_type": "code",
        "cellView": "form",
        "colab": {}
      },
      "source": [
        "#@title Import relevant modules\n",
        "\n",
        "import re\n",
        "import numpy as np\n",
        "import pandas as pd\n",
        "import seaborn as sns\n",
        "import tensorflow as tf\n",
        "from datetime import datetime\n",
        "from tensorflow.keras import layers\n",
        "from matplotlib import pyplot as plt\n",
        "\n",
        "# The following lines adjust the granularity of reporting. \n",
        "pd.options.display.max_rows = 20\n",
        "pd.options.display.float_format = \"{:.1f}\".format\n",
        "\n",
        "print('Modules Imported')"
      ],
      "execution_count": 0,
      "outputs": []
    },
    {
      "cell_type": "markdown",
      "metadata": {
        "id": "cc6zuggABre5",
        "colab_type": "text"
      },
      "source": [
        "##Data Preparation"
      ]
    },
    {
      "cell_type": "code",
      "metadata": {
        "id": "WBYWKNU-xda8",
        "colab_type": "code",
        "cellView": "form",
        "colab": {}
      },
      "source": [
        "#@title Load raw dataset\n",
        "data = pd.read_csv('https://raw.githubusercontent.com/marcellinusc/solar-radiation/data-prep/datasets.csv')\n",
        "print('Length of raw dataset:', str(len(data)))"
      ],
      "execution_count": 0,
      "outputs": []
    },
    {
      "cell_type": "code",
      "metadata": {
        "id": "M3Kcn4rrxAQh",
        "colab_type": "code",
        "colab": {},
        "cellView": "form"
      },
      "source": [
        "#@title Check for null values & show data types\n",
        "\n",
        "print('NULL DATA')\n",
        "print('===================')\n",
        "print(data.isnull().sum())\n",
        "print('\\nDATA TYPES')\n",
        "print('==========================================')\n",
        "print(data.info())"
      ],
      "execution_count": 0,
      "outputs": []
    },
    {
      "cell_type": "code",
      "metadata": {
        "id": "1T2D3iiPyA9K",
        "colab_type": "code",
        "cellView": "form",
        "colab": {}
      },
      "source": [
        "#@title Exclude raw data between sunset-sunrise\n",
        "\n",
        "daylight = [data['Time'].values[x] > data['Sunrise'].values[x]\n",
        "            and data['Time'].values[x] < data['Sunset'].values[x]\n",
        "            for x in range(len(data))]\n",
        "data['Daylight'] = daylight\n",
        "data['Daylight'] = data['Daylight'].astype('float')\n",
        "\n",
        "# Clean raw dataset from daylight value of 0\n",
        "data = data[data.Daylight != 0]\n",
        "\n",
        "# Copy clean dataset as original back up\n",
        "data_backup = data.copy()\n",
        "\n",
        "print('Length of clean datset:', str(len(data)))"
      ],
      "execution_count": 0,
      "outputs": []
    },
    {
      "cell_type": "code",
      "metadata": {
        "id": "6RUWo7GWSRkM",
        "colab_type": "code",
        "cellView": "form",
        "colab": {}
      },
      "source": [
        "#@title Merge columns 'Date' and 'Time'\n",
        "\n",
        "x = [i.replace('12:00:00 AM', '') for i in data['Date']]\n",
        "\n",
        "data['DateTime'] = x + data['Time']\n",
        "data['DateTime'] = pd.to_datetime(data['DateTime'])\n",
        "\n",
        "print('DateTime column added to dataframe')"
      ],
      "execution_count": 0,
      "outputs": []
    },
    {
      "cell_type": "code",
      "metadata": {
        "id": "HCXskDyrOKil",
        "colab_type": "code",
        "cellView": "form",
        "colab": {}
      },
      "source": [
        "#@title Convert UNIX time format to UTC\n",
        "\n",
        "data[\"TimeConversion\"] = pd.to_datetime(data[\"Time\"], format=\"%H:%M:%S\")\n",
        "\n",
        "# Get the month of the year and the day of the month\n",
        "data[\"Month\"] = pd.to_datetime(data[\"UNIXTime\"].astype(int),\n",
        "                               unit=\"s\").dt.month\n",
        "data[\"Day\"] = pd.to_datetime(data[\"UNIXTime\"].astype(int),\n",
        "                             unit=\"s\").dt.day \n",
        "\n",
        "# Get the hour and the minute of the day\n",
        "data[\"Hour\"] = pd.to_datetime(data[\"TimeConversion\"],\n",
        "                              format=\"%H:%M:%S\").dt.hour\n",
        "#data[\"Minute\"] = pd.to_datetime(data[\"TimeConversion\"],\n",
        "#                              format=\"%H:%M:%S\").dt.minute\n",
        "\n",
        "print('UNIX converted to UTC time format')"
      ],
      "execution_count": 0,
      "outputs": []
    },
    {
      "cell_type": "code",
      "metadata": {
        "id": "XNCiX25JGEoH",
        "colab_type": "code",
        "cellView": "form",
        "colab": {}
      },
      "source": [
        "#@title Plot 'Radiation' from September 2016 to January 2017\n",
        "\n",
        "data_viz = data.sort_values('DateTime', ascending=True)\n",
        "data_viz.head(15)\n",
        "\n",
        "plt.figure(figsize = (40,25))\n",
        "plt.rcParams['agg.path.chunksize'] = 10000\n",
        "plt.plot(data_viz['DateTime'], data_viz['Radiation'])\n",
        "\n",
        "plt.xlabel('Time', fontsize = 30)\n",
        "plt.xticks(fontsize = 25)\n",
        "plt.ylabel('Radiation', fontsize = 30)\n",
        "plt.yticks(fontsize = 25)"
      ],
      "execution_count": 0,
      "outputs": []
    },
    {
      "cell_type": "code",
      "metadata": {
        "id": "UontCGSpBWgb",
        "colab_type": "code",
        "cellView": "form",
        "colab": {}
      },
      "source": [
        "#@title Normalize values to Z-score\n",
        "\n",
        "# Calculate the Z-scores of each column in the dataset:\n",
        "data_mean = data.select_dtypes(include=['float64', 'int64']).mean()\n",
        "data_std = data.select_dtypes(include=['float64', 'int64']).std()\n",
        "data_norm = (data.select_dtypes(include=['float64', 'int64']) \n",
        "             - data_mean) / data_std\n",
        "\n",
        "data['Radiation'] = data_norm['Radiation']\n",
        "data['Temperature'] = data_norm['Temperature']\n",
        "data['Pressure'] = data_norm['Pressure']\n",
        "data['Radiation'] = data_norm['Radiation']\n",
        "data['Humidity'] = data_norm['Humidity']\n",
        "data['WindDirection'] = data_norm['WindDirection']\n",
        "data['WindSpeed'] = data_norm['WindSpeed']\n",
        "data['Month'] = data_norm['Month']\n",
        "data['Day'] = data_norm['Day']\n",
        "data['Hour'] = data_norm['Hour']\n",
        "\n",
        "print(\"Values normalized\")"
      ],
      "execution_count": 0,
      "outputs": []
    },
    {
      "cell_type": "code",
      "metadata": {
        "id": "mJOKNjUGGJOD",
        "colab_type": "code",
        "cellView": "form",
        "colab": {}
      },
      "source": [
        "#@title Show correlation between parameters\n",
        "\n",
        "data_par = data[['Radiation', 'Temperature', 'Pressure', 'Humidity',\n",
        "                  'WindDirection', 'WindSpeed', 'Month', 'Day', 'Hour'\n",
        "                  ]].copy()\n",
        "\n",
        "plt.figure(figsize = (10,10))\n",
        "mask = np.tril(np.ones_like(data_par.corr(), dtype=np.bool))\n",
        "sns.heatmap(data_par.corr(), mask=mask, cmap=\"YlGnBu\", annot = True, fmt = '.3f')"
      ],
      "execution_count": 0,
      "outputs": []
    },
    {
      "cell_type": "code",
      "metadata": {
        "id": "oE82mDOVcHWe",
        "colab_type": "code",
        "colab": {},
        "cellView": "form"
      },
      "source": [
        "#@title Show density histogram for each parameter\n",
        "(\n",
        "    fig,\n",
        "    (\n",
        "        (ax1, ax2, ax3),\n",
        "        (ax4, ax5, ax6),\n",
        "        (ax7, ax8, ax9),\n",
        "    ),\n",
        ") = plt.subplots(3, 3, figsize=(20, 20))\n",
        "\n",
        "sns.distplot(data['Radiation'], ax=ax1)\n",
        "sns.distplot(data['Temperature'], ax=ax2)\n",
        "sns.distplot(data['Pressure'], ax=ax3)\n",
        "sns.distplot(data['Humidity'], ax=ax4)\n",
        "sns.distplot(data['WindDirection'], ax=ax5)\n",
        "sns.distplot(data['WindSpeed'], ax=ax6)\n",
        "sns.distplot(data['Month'], ax=ax7)\n",
        "sns.distplot(data['Hour'], ax=ax8)\n",
        "sns.distplot(data['Day'], ax=ax9)"
      ],
      "execution_count": 0,
      "outputs": []
    },
    {
      "cell_type": "code",
      "metadata": {
        "id": "WErqqUjGo_dI",
        "colab_type": "code",
        "colab": {},
        "cellView": "form"
      },
      "source": [
        "#@title Show barplot between label and other parameter\n",
        "(\n",
        "    fig,\n",
        "    (\n",
        "        (ax1, ax2),\n",
        "        (ax3, ax4),\n",
        "        (ax5, ax6),\n",
        "        (ax7, ax8),\n",
        "    ),\n",
        ") = plt.subplots(4, 2, figsize=(20, 20))\n",
        "\n",
        "ax1.set_title(\"Radiation vs Temperature\")\n",
        "sns.barplot(x=\"Temperature\", y=\"Radiation\",\n",
        "            data=data, palette=\"GnBu_d\", ax=ax1)\n",
        "ax2.set_title(\"Radiation vs Pressure\")\n",
        "sns.barplot(x=\"Pressure\", y=\"Radiation\",\n",
        "            data=data, palette=\"GnBu_d\", ax=ax2)\n",
        "ax3.set_title(\"Radiation vs Humidty\")\n",
        "sns.barplot(x=\"Humidity\", y=\"Radiation\",\n",
        "            data=data, palette=\"GnBu_d\", ax=ax3)\n",
        "ax4.set_title(\"Radiation vs Wind Direction\")\n",
        "sns.barplot(x=\"WindDirection\", y=\"Radiation\",\n",
        "            data=data, palette=\"GnBu_d\", ax=ax4)\n",
        "ax5.set_title(\"Radiation vs Wind Speed\")\n",
        "sns.barplot(x=\"WindSpeed\", y=\"Radiation\",\n",
        "            data=data, palette=\"GnBu_d\", ax=ax5)\n",
        "ax6.set_title(\"Radiation vs Month\")\n",
        "sns.barplot(x=\"Month\", y=\"Radiation\",\n",
        "            data=data, palette=\"GnBu_d\", ax=ax6)\n",
        "ax7.set_title(\"Radiation vs Hour\")\n",
        "sns.barplot(x=\"Hour\", y=\"Radiation\",\n",
        "            data=data, palette=\"GnBu_d\", ax=ax7)\n",
        "ax8.set_title(\"Radiation vs Day\")\n",
        "sns.barplot(x=\"Day\", y=\"Radiation\",\n",
        "            data=data, palette=\"GnBu_d\", ax=ax8)\n",
        "\n",
        "# Adjust spacing between subplots\n",
        "fig.tight_layout(w_pad=3.0, h_pad=5.0)\n",
        "\n",
        "# Hide x-axis values\n",
        "ax1.set_xticklabels([])\n",
        "ax2.set_xticklabels([])\n",
        "ax3.set_xticklabels([])\n",
        "ax4.set_xticklabels([])\n",
        "ax5.set_xticklabels([])\n",
        "ax6.set_xticklabels([])\n",
        "ax7.set_xticklabels([])\n",
        "ax8.set_xticklabels([])"
      ],
      "execution_count": 0,
      "outputs": []
    },
    {
      "cell_type": "code",
      "metadata": {
        "id": "hzjfIldM8FeD",
        "colab_type": "code",
        "cellView": "form",
        "colab": {}
      },
      "source": [
        "#@title Divide clean dataset into training set and test set\n",
        "\n",
        "# Sort dataset in descending order from the latest to the earliest\n",
        "data['Date'] = pd.to_datetime(data['Date'])\n",
        "data = data.sort_values(by=['Date', 'Time'], ascending=False)\n",
        "\n",
        "# Percentage of dataset to be considered as test set\n",
        "test_split = 0.05\n",
        "data_test = data[:][0:round((len(data)*test_split))]\n",
        "data_train = data[:][round((len(data)*test_split)):]\n",
        "# Shuffle training set\n",
        "data_train = data_train.reindex(np.random.permutation(data_train.index))\n",
        "\n",
        "print('Length of training dataset:', str(len(data_train)),\n",
        "      '\\nLength of test set length:', str(len(data_test)))"
      ],
      "execution_count": 0,
      "outputs": []
    },
    {
      "cell_type": "code",
      "metadata": {
        "id": "BN96BHt1Mv9u",
        "colab_type": "code",
        "cellView": "form",
        "colab": {}
      },
      "source": [
        "#@title Represent features as floating-point values\n",
        "\n",
        "feature_columns = []\n",
        "\n",
        "temperature = tf.feature_column.numeric_column(\"Temperature\")\n",
        "feature_columns.append(temperature)\n",
        "\n",
        "pressure = tf.feature_column.numeric_column(\"Pressure\")\n",
        "feature_columns.append(pressure)\n",
        "\n",
        "humidity = tf.feature_column.numeric_column(\"Humidity\")\n",
        "feature_columns.append(humidity)\n",
        "\n",
        "wdirection = tf.feature_column.numeric_column(\"WindDirection\")\n",
        "feature_columns.append(wdirection)\n",
        "\n",
        "wspeed = tf.feature_column.numeric_column(\"WindSpeed\")\n",
        "feature_columns.append(wspeed)\n",
        "\n",
        "#sunrise = tf.feature_column.numeric_column(\"Sunrise\")\n",
        "#feature_columns.append(sunrise)\n",
        "\n",
        "#sunset = tf.feature_column.numeric_column(\"Sunset\")\n",
        "#feature_columns.append(sunset)\n",
        "\n",
        "#month = tf.feature_column.numeric_column(\"Month\")\n",
        "#feature_columns.append(month)\n",
        "\n",
        "#day = tf.feature_column.numeric_column(\"Day\")\n",
        "#feature_columns.append(day)\n",
        "\n",
        "hour = tf.feature_column.numeric_column(\"Hour\")\n",
        "feature_columns.append(hour)\n",
        "\n",
        "#minute = tf.feature_column.numeric_column(\"Minute\")\n",
        "#feature_columns.append(minute)\n",
        "\n",
        "# Convert the list of feature columns into a layer that \n",
        "# later will be fed into the model. \n",
        "feature_layer = tf.keras.layers.DenseFeatures(feature_columns)\n",
        "\n",
        "print('Feature representations selected')"
      ],
      "execution_count": 0,
      "outputs": []
    },
    {
      "cell_type": "markdown",
      "metadata": {
        "id": "-NRUPok5p9pM",
        "colab_type": "text"
      },
      "source": [
        "##Model: Linear Regression"
      ]
    },
    {
      "cell_type": "code",
      "metadata": {
        "id": "SqJhB8lwRCPq",
        "colab_type": "code",
        "cellView": "form",
        "colab": {}
      },
      "source": [
        "#@title Define plotting function\n",
        "\n",
        "\"\"\"Plot loss vs epoch in a graph\"\"\"\n",
        "def plot_the_loss_curve(epochs, rmse_training, rmse_validation):\n",
        "  \n",
        "  plt.figure()\n",
        "  plt.xlabel('Epoch')\n",
        "  plt.ylabel('Root Mean Squared Error')\n",
        "\n",
        "  plt.plot(epochs[1:], rmse_training[1:], label='Training Loss')\n",
        "  plt.plot(epochs[1:], rmse_validation[1:], label='Validation Loss')\n",
        "  plt.legend()\n",
        "\n",
        "  merged_rmse_lists = rmse_training[1:] + rmse_validation[1:]\n",
        "  highest_loss = max(merged_rmse_lists)\n",
        "  lowest_loss = min(merged_rmse_lists)\n",
        "  delta = highest_loss - lowest_loss\n",
        "  print(delta)\n",
        "\n",
        "  top_of_y_axis = highest_loss + (delta * 0.05)\n",
        "  bottom_of_y_axis = lowest_loss - (delta * 0.05)\n",
        "  plt.ylim([bottom_of_y_axis, top_of_y_axis])\n",
        "  plt.show()  \n",
        "\n",
        "print('Plot function defined')"
      ],
      "execution_count": 0,
      "outputs": []
    },
    {
      "cell_type": "code",
      "metadata": {
        "id": "K_22JvNLTAUI",
        "colab_type": "code",
        "cellView": "form",
        "colab": {}
      },
      "source": [
        "#@title Define functions to create and train  model\n",
        "\n",
        "\"\"\"Create and compile a simple linear regression model.\"\"\"\n",
        "def create_model(learning_rate, feature_layer):\n",
        "  \n",
        "  # Most simple tf.keras models are sequential.\n",
        "  model = tf.keras.models.Sequential()\n",
        "\n",
        "  # Add the layer containing the feature columns to the model.\n",
        "  model.add(feature_layer)\n",
        "\n",
        "  # Add one linear layer to the model to yield a simple linear regressor.\n",
        "  model.add(tf.keras.layers.Dense(units=1, input_shape=(1,)))\n",
        "\n",
        "  # Construct the layers into a model that TensorFlow can execute.\n",
        "  model.compile(optimizer=tf.keras.optimizers.RMSprop(lr=learning_rate),\n",
        "                loss='mean_squared_error',\n",
        "                metrics=[tf.keras.metrics.RootMeanSquaredError()])\n",
        "  \n",
        "  return model           \n",
        "\n",
        "\"\"\"Feed a dataset into the model in order to train it.\"\"\"\n",
        "def train_model(model, dataset, epochs, batch_size,\n",
        "                label_name, validation_split):\n",
        "\n",
        "  # Split the dataset into features and label.\n",
        "  features = {name:np.array(value) for name, value in dataset.items()}\n",
        "  label = np.array(features.pop(label_name))\n",
        "  history = model.fit(x=features, y=label, batch_size=batch_size,\n",
        "                      epochs=epochs, validation_split=validation_split, \n",
        "                      shuffle=True)\n",
        "\n",
        "  # Get details that will be useful for plotting the loss curve.\n",
        "  epochs = history.epoch\n",
        "  hist = pd.DataFrame(history.history)\n",
        "  rmse = hist['root_mean_squared_error']\n",
        "\n",
        "  return epochs, rmse, history.history   \n",
        "\n",
        "print('Model defined')"
      ],
      "execution_count": 0,
      "outputs": []
    },
    {
      "cell_type": "code",
      "metadata": {
        "id": "5tTmKEHCUlJJ",
        "colab_type": "code",
        "cellView": "form",
        "colab": {}
      },
      "source": [
        "#@title Train model\n",
        "\n",
        "# The following variables are the hyperparameters.\n",
        "learning_rate = 0.01\n",
        "epochs = 100\n",
        "batch_size = 1024\n",
        "validation_split = 0.5\n",
        "label_name = 'Radiation'\n",
        " \n",
        "# Establish the model's topography.\n",
        "model = create_model(learning_rate, feature_layer)\n",
        "\n",
        "# Train the model on the normalized training set.\n",
        "epochs, rmse, history = train_model(model, data_train_norm, epochs, batch_size,\n",
        "                                    label_name, validation_split=validation_split)\n",
        "plot_the_loss_curve(epochs, history['root_mean_squared_error'], \n",
        "                    history['val_root_mean_squared_error'])\n",
        "\n",
        "test_features = {name:np.array(value) for name, value in data_test_norm.items()}\n",
        "# Isolate the label\n",
        "test_label = np.array(test_features.pop(label_name))\n",
        "print('\\n Evaluate the linear regression model against the test set:')\n",
        "model.evaluate(x=test_features, y=test_label, batch_size=batch_size)"
      ],
      "execution_count": 0,
      "outputs": []
    }
  ]
}