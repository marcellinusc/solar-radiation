{
  "nbformat": 4,
  "nbformat_minor": 0,
  "metadata": {
    "colab": {
      "name": "ml-model.ipynb",
      "provenance": [],
      "authorship_tag": "ABX9TyNR/XLIFUHYfZQ6J9mPwPX5",
      "include_colab_link": true
    },
    "kernelspec": {
      "name": "python3",
      "display_name": "Python 3"
    }
  },
  "cells": [
    {
      "cell_type": "markdown",
      "metadata": {
        "id": "view-in-github",
        "colab_type": "text"
      },
      "source": [
        "<a href=\"https://colab.research.google.com/github/marcellinusc/solar-radiation/blob/model-building/ml_model.ipynb\" target=\"_parent\"><img src=\"https://colab.research.google.com/assets/colab-badge.svg\" alt=\"Open In Colab\"/></a>"
      ]
    },
    {
      "cell_type": "code",
      "metadata": {
        "id": "V4PdA4irqEaK",
        "colab_type": "code",
        "colab": {},
        "cellView": "form"
      },
      "source": [
        "#@title Run on TensorFlow 2.x\n",
        "\n",
        "%tensorflow_version 2.x\n",
        "from __future__ import absolute_import, division\n",
        "from __future__ import print_function, unicode_literals"
      ],
      "execution_count": 0,
      "outputs": []
    },
    {
      "cell_type": "code",
      "metadata": {
        "id": "Rbg1PDRauaer",
        "colab_type": "code",
        "colab": {
          "base_uri": "https://localhost:8080/",
          "height": 88
        },
        "cellView": "form",
        "outputId": "7067f6d1-4cdf-473b-dfba-c219a4dfda76"
      },
      "source": [
        "#@title Import relevant modules\n",
        "\n",
        "import numpy as np\n",
        "import pandas as pd\n",
        "import seaborn as sns\n",
        "import tensorflow as tf\n",
        "from tensorflow.keras import layers\n",
        "from matplotlib import pyplot as plt\n",
        "\n",
        "# The following lines adjust the granularity of reporting. \n",
        "pd.options.display.max_rows = 10\n",
        "pd.options.display.float_format = \"{:.1f}\".format\n",
        "\n",
        "print('Imported')"
      ],
      "execution_count": 2,
      "outputs": [
        {
          "output_type": "stream",
          "text": [
            "/usr/local/lib/python3.6/dist-packages/statsmodels/tools/_testing.py:19: FutureWarning: pandas.util.testing is deprecated. Use the functions in the public API at pandas.testing instead.\n",
            "  import pandas.util.testing as tm\n"
          ],
          "name": "stderr"
        },
        {
          "output_type": "stream",
          "text": [
            "Imported\n"
          ],
          "name": "stdout"
        }
      ]
    },
    {
      "cell_type": "code",
      "metadata": {
        "id": "WBYWKNU-xda8",
        "colab_type": "code",
        "colab": {
          "base_uri": "https://localhost:8080/",
          "height": 34
        },
        "cellView": "form",
        "outputId": "d2dd9e38-df4e-47bd-d2d6-f52ac63b9e4f"
      },
      "source": [
        "#@title Load raw dataset\n",
        "data = pd.read_csv('https://raw.githubusercontent.com/marcellinusc/solar-radiation/data-prep/datasets.csv')\n",
        "print('Dataset length:', str(len(data)))"
      ],
      "execution_count": 3,
      "outputs": [
        {
          "output_type": "stream",
          "text": [
            "Dataset length: 32686\n"
          ],
          "name": "stdout"
        }
      ]
    },
    {
      "cell_type": "code",
      "metadata": {
        "id": "1T2D3iiPyA9K",
        "colab_type": "code",
        "colab": {
          "base_uri": "https://localhost:8080/",
          "height": 34
        },
        "cellView": "form",
        "outputId": "445c9e15-978c-4b43-accb-4b374e7d9919"
      },
      "source": [
        "#@title Exclude raw data between sunset-sunrise\n",
        "\n",
        "daylight = [data['Time'].values[x] > data['Sunrise'].values[x]\n",
        "            and data['Time'].values[x] < data['Sunset'].values[x]\n",
        "            for x in range(len(data))]\n",
        "data['Daylight'] = daylight\n",
        "data['Daylight'] = data['Daylight'].astype('float')\n",
        "\n",
        "# Clean raw dataset from daylight value of 0\n",
        "data = data[data.Daylight != 0]\n",
        "\n",
        "print('Dataset length:', str(len(data)))"
      ],
      "execution_count": 4,
      "outputs": [
        {
          "output_type": "stream",
          "text": [
            "Dataset length: 15608\n"
          ],
          "name": "stdout"
        }
      ]
    },
    {
      "cell_type": "code",
      "metadata": {
        "id": "HCXskDyrOKil",
        "colab_type": "code",
        "colab": {
          "base_uri": "https://localhost:8080/",
          "height": 34
        },
        "cellView": "form",
        "outputId": "c4b49123-b143-4b34-bdbd-9d7c165b4cb0"
      },
      "source": [
        "#@title Convert UNIX time format to UTC\n",
        "\n",
        "data[\"TimeConversion\"] = pd.to_datetime(data[\"Time\"], format=\"%H:%M:%S\")\n",
        "\n",
        "# Get the month of the year and the day of the month\n",
        "data[\"Month\"] = pd.to_datetime(data[\"UNIXTime\"].astype(int),\n",
        "                               unit=\"s\").dt.month\n",
        "data[\"Day\"] = pd.to_datetime(data[\"UNIXTime\"].astype(int),\n",
        "                             unit=\"s\").dt.day \n",
        "\n",
        "# Get the hour and the minute of the day\n",
        "data[\"Hour\"] = pd.to_datetime(data[\"TimeConversion\"],\n",
        "                              format=\"%H:%M:%S\").dt.hour\n",
        "data[\"Minute\"] = pd.to_datetime(data[\"TimeConversion\"],\n",
        "                              format=\"%H:%M:%S\").dt.minute\n",
        "\n",
        "print('Converted')"
      ],
      "execution_count": 5,
      "outputs": [
        {
          "output_type": "stream",
          "text": [
            "Converted\n"
          ],
          "name": "stdout"
        }
      ]
    },
    {
      "cell_type": "code",
      "metadata": {
        "id": "hzjfIldM8FeD",
        "colab_type": "code",
        "colab": {
          "base_uri": "https://localhost:8080/",
          "height": 51
        },
        "cellView": "form",
        "outputId": "d8ce1f34-8aca-4f3d-ee81-187063bdb53a"
      },
      "source": [
        "#@title Divide clean dataset into training set and test set\n",
        "\n",
        "# Sort dataset in descending order from the latest to the earliest\n",
        "data['Data'] = pd.to_datetime(data['Data'])\n",
        "data = data.sort_values(by=['Data', 'Time'], ascending=False)\n",
        "\n",
        "# Percentage of dataset to be considered as test set\n",
        "test_split = 0.2\n",
        "data_test = data[:][0:round((len(data)*test_split))]\n",
        "data_train = data[:][round((len(data)*test_split)):]\n",
        "# Shuffle training set\n",
        "data_train = data_train.reindex(np.random.permutation(data_train.index))\n",
        "\n",
        "print('Training set length:', str(len(data_train)),\n",
        "      '\\nTest set length:', str(len(data_test)))\n",
        "\n",
        "# Remove column 'Daylight' from dataframe\n",
        "data_train = data_train.drop(columns='Daylight')\n",
        "data_test = data_test.drop(columns='Daylight')"
      ],
      "execution_count": 6,
      "outputs": [
        {
          "output_type": "stream",
          "text": [
            "Training set length: 12486 \n",
            "Test set length: 3122\n"
          ],
          "name": "stdout"
        }
      ]
    },
    {
      "cell_type": "code",
      "metadata": {
        "id": "UontCGSpBWgb",
        "colab_type": "code",
        "colab": {
          "base_uri": "https://localhost:8080/",
          "height": 34
        },
        "cellView": "form",
        "outputId": "9d026782-d164-4491-8dc7-d9f37527c2ce"
      },
      "source": [
        "#@title Normalize values\n",
        "\n",
        "# Calculate the Z-scores of each column in the training set:\n",
        "data_train_mean = data_train.select_dtypes(include=['float64', 'int64']).mean()\n",
        "data_train_std = data_train.select_dtypes(include=['float64', 'int64']).std()\n",
        "data_train_norm = (data_train.select_dtypes(include=['float64', 'int64']) \n",
        "                   - data_train_mean)/data_train_std\n",
        "\n",
        "# Calculate the Z-scores of each column in the test set.\n",
        "data_test_mean = data_test.select_dtypes(include=['float64', 'int64']).mean()\n",
        "data_test_std = data_test.select_dtypes(include=['float64', 'int64']).std()\n",
        "data_test_norm = (data_test.select_dtypes(include=['float64', 'int64'])\n",
        "                  - data_test_mean)/data_test_std\n",
        "\n",
        "print(\"Normalized\")"
      ],
      "execution_count": 7,
      "outputs": [
        {
          "output_type": "stream",
          "text": [
            "Normalized\n"
          ],
          "name": "stdout"
        }
      ]
    },
    {
      "cell_type": "code",
      "metadata": {
        "id": "BN96BHt1Mv9u",
        "colab_type": "code",
        "colab": {
          "base_uri": "https://localhost:8080/",
          "height": 34
        },
        "cellView": "form",
        "outputId": "3eca5db3-993e-4898-9817-b08aad5cc6c4"
      },
      "source": [
        "#@title Represent features as a floating-point value\n",
        "\n",
        "feature_columns = []\n",
        "\n",
        "temperature = tf.feature_column.numeric_column(\"Temperature\")\n",
        "feature_columns.append(temperature)\n",
        "\n",
        "pressure = tf.feature_column.numeric_column(\"Pressure\")\n",
        "feature_columns.append(pressure)\n",
        "\n",
        "humidity = tf.feature_column.numeric_column(\"Humidity\")\n",
        "feature_columns.append(humidity)\n",
        "\n",
        "wdirection = tf.feature_column.numeric_column(\"WindDirection\")\n",
        "feature_columns.append(wdirection)\n",
        "\n",
        "wspeed = tf.feature_column.numeric_column(\"WindSpeed\")\n",
        "feature_columns.append(wspeed)\n",
        "\n",
        "#sunrise = tf.feature_column.numeric_column(\"Sunrise\")\n",
        "#feature_columns.append(sunrise)\n",
        "\n",
        "#sunset = tf.feature_column.numeric_column(\"Sunset\")\n",
        "#feature_columns.append(sunset)\n",
        "\n",
        "#month = tf.feature_column.numeric_column(\"Month\")\n",
        "#feature_columns.append(month)\n",
        "\n",
        "#day = tf.feature_column.numeric_column(\"Day\")\n",
        "#feature_columns.append(day)\n",
        "\n",
        "hour = tf.feature_column.numeric_column(\"Hour\")\n",
        "feature_columns.append(hour)\n",
        "\n",
        "#minute = tf.feature_column.numeric_column(\"Minute\")\n",
        "#feature_columns.append(minute)\n",
        "\n",
        "# Convert the list of feature columns into a layer that \n",
        "# later will be fed into the model. \n",
        "feature_layer = tf.keras.layers.DenseFeatures(feature_columns)\n",
        "\n",
        "print('Represented')"
      ],
      "execution_count": 8,
      "outputs": [
        {
          "output_type": "stream",
          "text": [
            "Represented\n"
          ],
          "name": "stdout"
        }
      ]
    },
    {
      "cell_type": "code",
      "metadata": {
        "id": "SqJhB8lwRCPq",
        "colab_type": "code",
        "colab": {
          "base_uri": "https://localhost:8080/",
          "height": 34
        },
        "cellView": "form",
        "outputId": "54aa6bb7-4b4a-4cc7-9b9d-ea4f1b433e83"
      },
      "source": [
        "#@title Define plotting function\n",
        "\n",
        "def plot_the_loss_curve(epochs, rmse_training, rmse_validation):\n",
        "  \"\"\"Plot loss vs epoch in a graph\"\"\"\n",
        "  \n",
        "  plt.figure()\n",
        "  plt.xlabel('Epoch')\n",
        "  plt.ylabel('Root Mean Squared Error')\n",
        "\n",
        "  plt.plot(epochs[1:], rmse_training[1:], label='Training Loss')\n",
        "  plt.plot(epochs[1:], rmse_validation[1:], label='Validation Loss')\n",
        "  plt.legend()\n",
        "\n",
        "  merged_rmse_lists = rmse_training[1:] + rmse_validation[1:]\n",
        "  highest_loss = max(merged_rmse_lists)\n",
        "  lowest_loss = min(merged_rmse_lists)\n",
        "  delta = highest_loss - lowest_loss\n",
        "  print(delta)\n",
        "\n",
        "  top_of_y_axis = highest_loss + (delta * 0.05)\n",
        "  bottom_of_y_axis = lowest_loss - (delta * 0.05)\n",
        "  plt.ylim([bottom_of_y_axis, top_of_y_axis])\n",
        "  plt.show()  \n",
        "\n",
        "print('Defined')"
      ],
      "execution_count": 9,
      "outputs": [
        {
          "output_type": "stream",
          "text": [
            "Defined\n"
          ],
          "name": "stdout"
        }
      ]
    },
    {
      "cell_type": "code",
      "metadata": {
        "id": "K_22JvNLTAUI",
        "colab_type": "code",
        "colab": {
          "base_uri": "https://localhost:8080/",
          "height": 34
        },
        "cellView": "form",
        "outputId": "2937d96e-621a-4904-88f8-7f1807ba344f"
      },
      "source": [
        "#@title Define functions to create and train a linear regression model\n",
        "\n",
        "def create_model(learning_rate, feature_layer):\n",
        "  \"\"\"Create and compile a simple linear regression model.\"\"\"\n",
        "\n",
        "  # Most simple tf.keras models are sequential.\n",
        "  model = tf.keras.models.Sequential()\n",
        "\n",
        "  # Add the layer containing the feature columns to the model.\n",
        "  model.add(feature_layer)\n",
        "\n",
        "  # Add one linear layer to the model to yield a simple linear regressor.\n",
        "  model.add(tf.keras.layers.Dense(units=1, input_shape=(1,)))\n",
        "\n",
        "  # Construct the layers into a model that TensorFlow can execute.\n",
        "  model.compile(optimizer=tf.keras.optimizers.RMSprop(lr=learning_rate),\n",
        "                loss='mean_squared_error',\n",
        "                metrics=[tf.keras.metrics.RootMeanSquaredError()])\n",
        "  \n",
        "  return model           \n",
        "\n",
        "\n",
        "def train_model(model, dataset, epochs, batch_size,\n",
        "                label_name, validation_split):\n",
        "  \"\"\"Feed a dataset into the model in order to train it.\"\"\"\n",
        "\n",
        "  # Split the dataset into features and label.\n",
        "  features = {name:np.array(value) for name, value in dataset.items()}\n",
        "  label = np.array(features.pop(label_name))\n",
        "  history = model.fit(x=features, y=label, batch_size=batch_size,\n",
        "                      epochs=epochs, validation_split=validation_split, \n",
        "                      shuffle=True)\n",
        "\n",
        "  # Get details that will be useful for plotting the loss curve.\n",
        "  epochs = history.epoch\n",
        "  hist = pd.DataFrame(history.history)\n",
        "  rmse = hist['root_mean_squared_error']\n",
        "\n",
        "  return epochs, rmse, history.history   \n",
        "\n",
        "print('Defined')"
      ],
      "execution_count": 10,
      "outputs": [
        {
          "output_type": "stream",
          "text": [
            "Defined\n"
          ],
          "name": "stdout"
        }
      ]
    },
    {
      "cell_type": "code",
      "metadata": {
        "id": "5tTmKEHCUlJJ",
        "colab_type": "code",
        "colab": {
          "base_uri": "https://localhost:8080/",
          "height": 1000
        },
        "cellView": "both",
        "outputId": "758a7070-1913-4bed-d86e-5919b68c091d"
      },
      "source": [
        "#@title Train model as linear regression\n",
        "\n",
        "# The following variables are the hyperparameters.\n",
        "learning_rate = 0.01\n",
        "epochs = 100\n",
        "batch_size = 1024\n",
        "validation_split = 0.5\n",
        "label_name = \"Radiation\"\n",
        " \n",
        "# Establish the model's topography.\n",
        "model = create_model(learning_rate, feature_layer)\n",
        "\n",
        "# Train the model on the normalized training set.\n",
        "epochs, rmse, history = train_model(model, data_train_norm, epochs, batch_size,\n",
        "                                    label_name, validation_split=validation_split)\n",
        "plot_the_loss_curve(epochs, history[\"root_mean_squared_error\"], \n",
        "                    history[\"val_root_mean_squared_error\"])\n",
        "\n",
        "test_features = {name:np.array(value) for name, value in data_test_norm.items()}\n",
        "# Isolate the label\n",
        "test_label = np.array(test_features.pop(label_name))\n",
        "print(\"\\n Evaluate the linear regression model against the test set:\")\n",
        "model.evaluate(x=test_features, y=test_label, batch_size=batch_size)"
      ],
      "execution_count": 11,
      "outputs": [
        {
          "output_type": "stream",
          "text": [
            "Epoch 1/100\n",
            "WARNING:tensorflow:Layer dense_features is casting an input tensor from dtype float64 to the layer's dtype of float32, which is new behavior in TensorFlow 2.  The layer has dtype float32 because it's dtype defaults to floatx.\n",
            "\n",
            "If you intended to run this layer in float32, you can safely ignore this warning. If in doubt, this warning is likely only an issue if you are porting a TensorFlow 1.X model to TensorFlow 2.\n",
            "\n",
            "To change all layers to have dtype float64 by default, call `tf.keras.backend.set_floatx('float64')`. To change just this layer, pass dtype='float64' to the layer constructor. If you are the author of this layer, you can disable autocasting by passing autocast=False to the base Layer constructor.\n",
            "\n",
            "7/7 [==============================] - 0s 37ms/step - loss: 2.9402 - root_mean_squared_error: 1.7289 - val_loss: 2.4078 - val_root_mean_squared_error: 1.5750\n",
            "Epoch 2/100\n",
            "7/7 [==============================] - 0s 10ms/step - loss: 2.2853 - root_mean_squared_error: 1.5225 - val_loss: 1.9956 - val_root_mean_squared_error: 1.4317\n",
            "Epoch 3/100\n",
            "7/7 [==============================] - 0s 10ms/step - loss: 1.9131 - root_mean_squared_error: 1.3897 - val_loss: 1.6971 - val_root_mean_squared_error: 1.3185\n",
            "Epoch 4/100\n",
            "7/7 [==============================] - 0s 10ms/step - loss: 1.6103 - root_mean_squared_error: 1.2826 - val_loss: 1.4683 - val_root_mean_squared_error: 1.2242\n",
            "Epoch 5/100\n",
            "7/7 [==============================] - 0s 9ms/step - loss: 1.3592 - root_mean_squared_error: 1.1938 - val_loss: 1.2928 - val_root_mean_squared_error: 1.1466\n",
            "Epoch 6/100\n",
            "7/7 [==============================] - 0s 11ms/step - loss: 1.2597 - root_mean_squared_error: 1.1194 - val_loss: 1.1364 - val_root_mean_squared_error: 1.0729\n",
            "Epoch 7/100\n",
            "7/7 [==============================] - 0s 10ms/step - loss: 1.0951 - root_mean_squared_error: 1.0505 - val_loss: 1.0122 - val_root_mean_squared_error: 1.0104\n",
            "Epoch 8/100\n",
            "7/7 [==============================] - 0s 11ms/step - loss: 0.9731 - root_mean_squared_error: 0.9907 - val_loss: 0.9080 - val_root_mean_squared_error: 0.9549\n",
            "Epoch 9/100\n",
            "7/7 [==============================] - 0s 10ms/step - loss: 0.8637 - root_mean_squared_error: 0.9386 - val_loss: 0.8292 - val_root_mean_squared_error: 0.9101\n",
            "Epoch 10/100\n",
            "7/7 [==============================] - 0s 10ms/step - loss: 0.7897 - root_mean_squared_error: 0.8953 - val_loss: 0.7614 - val_root_mean_squared_error: 0.8704\n",
            "Epoch 11/100\n",
            "7/7 [==============================] - 0s 10ms/step - loss: 0.7510 - root_mean_squared_error: 0.8598 - val_loss: 0.7101 - val_root_mean_squared_error: 0.8388\n",
            "Epoch 12/100\n",
            "7/7 [==============================] - 0s 11ms/step - loss: 0.6681 - root_mean_squared_error: 0.8305 - val_loss: 0.6683 - val_root_mean_squared_error: 0.8129\n",
            "Epoch 13/100\n",
            "7/7 [==============================] - 0s 10ms/step - loss: 0.6670 - root_mean_squared_error: 0.8081 - val_loss: 0.6361 - val_root_mean_squared_error: 0.7926\n",
            "Epoch 14/100\n",
            "7/7 [==============================] - 0s 10ms/step - loss: 0.6322 - root_mean_squared_error: 0.7884 - val_loss: 0.6050 - val_root_mean_squared_error: 0.7721\n",
            "Epoch 15/100\n",
            "7/7 [==============================] - 0s 10ms/step - loss: 0.5947 - root_mean_squared_error: 0.7699 - val_loss: 0.5864 - val_root_mean_squared_error: 0.7588\n",
            "Epoch 16/100\n",
            "7/7 [==============================] - 0s 10ms/step - loss: 0.5643 - root_mean_squared_error: 0.7554 - val_loss: 0.5671 - val_root_mean_squared_error: 0.7457\n",
            "Epoch 17/100\n",
            "7/7 [==============================] - 0s 10ms/step - loss: 0.5424 - root_mean_squared_error: 0.7443 - val_loss: 0.5523 - val_root_mean_squared_error: 0.7356\n",
            "Epoch 18/100\n",
            "7/7 [==============================] - 0s 11ms/step - loss: 0.5453 - root_mean_squared_error: 0.7343 - val_loss: 0.5446 - val_root_mean_squared_error: 0.7289\n",
            "Epoch 19/100\n",
            "7/7 [==============================] - 0s 10ms/step - loss: 0.5336 - root_mean_squared_error: 0.7268 - val_loss: 0.5374 - val_root_mean_squared_error: 0.7238\n",
            "Epoch 20/100\n",
            "7/7 [==============================] - 0s 10ms/step - loss: 0.5383 - root_mean_squared_error: 0.7219 - val_loss: 0.5308 - val_root_mean_squared_error: 0.7195\n",
            "Epoch 21/100\n",
            "7/7 [==============================] - 0s 10ms/step - loss: 0.5059 - root_mean_squared_error: 0.7187 - val_loss: 0.5312 - val_root_mean_squared_error: 0.7187\n",
            "Epoch 22/100\n",
            "7/7 [==============================] - 0s 10ms/step - loss: 0.5084 - root_mean_squared_error: 0.7166 - val_loss: 0.5277 - val_root_mean_squared_error: 0.7165\n",
            "Epoch 23/100\n",
            "7/7 [==============================] - 0s 11ms/step - loss: 0.5288 - root_mean_squared_error: 0.7156 - val_loss: 0.5286 - val_root_mean_squared_error: 0.7175\n",
            "Epoch 24/100\n",
            "7/7 [==============================] - 0s 10ms/step - loss: 0.5110 - root_mean_squared_error: 0.7155 - val_loss: 0.5265 - val_root_mean_squared_error: 0.7156\n",
            "Epoch 25/100\n",
            "7/7 [==============================] - 0s 11ms/step - loss: 0.5179 - root_mean_squared_error: 0.7152 - val_loss: 0.5341 - val_root_mean_squared_error: 0.7195\n",
            "Epoch 26/100\n",
            "7/7 [==============================] - 0s 10ms/step - loss: 0.5099 - root_mean_squared_error: 0.7152 - val_loss: 0.5343 - val_root_mean_squared_error: 0.7201\n",
            "Epoch 27/100\n",
            "7/7 [==============================] - 0s 10ms/step - loss: 0.5109 - root_mean_squared_error: 0.7147 - val_loss: 0.5320 - val_root_mean_squared_error: 0.7187\n",
            "Epoch 28/100\n",
            "7/7 [==============================] - 0s 10ms/step - loss: 0.5060 - root_mean_squared_error: 0.7153 - val_loss: 0.5299 - val_root_mean_squared_error: 0.7177\n",
            "Epoch 29/100\n",
            "7/7 [==============================] - 0s 10ms/step - loss: 0.5112 - root_mean_squared_error: 0.7150 - val_loss: 0.5353 - val_root_mean_squared_error: 0.7204\n",
            "Epoch 30/100\n",
            "7/7 [==============================] - 0s 10ms/step - loss: 0.4959 - root_mean_squared_error: 0.7153 - val_loss: 0.5343 - val_root_mean_squared_error: 0.7199\n",
            "Epoch 31/100\n",
            "7/7 [==============================] - 0s 12ms/step - loss: 0.5005 - root_mean_squared_error: 0.7151 - val_loss: 0.5336 - val_root_mean_squared_error: 0.7193\n",
            "Epoch 32/100\n",
            "7/7 [==============================] - 0s 10ms/step - loss: 0.5075 - root_mean_squared_error: 0.7151 - val_loss: 0.5297 - val_root_mean_squared_error: 0.7168\n",
            "Epoch 33/100\n",
            "7/7 [==============================] - 0s 10ms/step - loss: 0.5125 - root_mean_squared_error: 0.7148 - val_loss: 0.5304 - val_root_mean_squared_error: 0.7180\n",
            "Epoch 34/100\n",
            "7/7 [==============================] - 0s 10ms/step - loss: 0.5197 - root_mean_squared_error: 0.7151 - val_loss: 0.5325 - val_root_mean_squared_error: 0.7189\n",
            "Epoch 35/100\n",
            "7/7 [==============================] - 0s 10ms/step - loss: 0.5342 - root_mean_squared_error: 0.7148 - val_loss: 0.5352 - val_root_mean_squared_error: 0.7205\n",
            "Epoch 36/100\n",
            "7/7 [==============================] - 0s 10ms/step - loss: 0.5130 - root_mean_squared_error: 0.7152 - val_loss: 0.5330 - val_root_mean_squared_error: 0.7187\n",
            "Epoch 37/100\n",
            "7/7 [==============================] - 0s 11ms/step - loss: 0.5236 - root_mean_squared_error: 0.7149 - val_loss: 0.5294 - val_root_mean_squared_error: 0.7172\n",
            "Epoch 38/100\n",
            "7/7 [==============================] - 0s 10ms/step - loss: 0.5204 - root_mean_squared_error: 0.7151 - val_loss: 0.5312 - val_root_mean_squared_error: 0.7183\n",
            "Epoch 39/100\n",
            "7/7 [==============================] - 0s 11ms/step - loss: 0.5201 - root_mean_squared_error: 0.7148 - val_loss: 0.5296 - val_root_mean_squared_error: 0.7171\n",
            "Epoch 40/100\n",
            "7/7 [==============================] - 0s 11ms/step - loss: 0.5086 - root_mean_squared_error: 0.7155 - val_loss: 0.5287 - val_root_mean_squared_error: 0.7164\n",
            "Epoch 41/100\n",
            "7/7 [==============================] - 0s 10ms/step - loss: 0.5065 - root_mean_squared_error: 0.7154 - val_loss: 0.5314 - val_root_mean_squared_error: 0.7182\n",
            "Epoch 42/100\n",
            "7/7 [==============================] - 0s 10ms/step - loss: 0.5252 - root_mean_squared_error: 0.7149 - val_loss: 0.5302 - val_root_mean_squared_error: 0.7178\n",
            "Epoch 43/100\n",
            "7/7 [==============================] - 0s 11ms/step - loss: 0.5029 - root_mean_squared_error: 0.7152 - val_loss: 0.5282 - val_root_mean_squared_error: 0.7164\n",
            "Epoch 44/100\n",
            "7/7 [==============================] - 0s 11ms/step - loss: 0.5144 - root_mean_squared_error: 0.7155 - val_loss: 0.5267 - val_root_mean_squared_error: 0.7159\n",
            "Epoch 45/100\n",
            "7/7 [==============================] - 0s 10ms/step - loss: 0.5103 - root_mean_squared_error: 0.7151 - val_loss: 0.5287 - val_root_mean_squared_error: 0.7164\n",
            "Epoch 46/100\n",
            "7/7 [==============================] - 0s 10ms/step - loss: 0.5101 - root_mean_squared_error: 0.7150 - val_loss: 0.5278 - val_root_mean_squared_error: 0.7166\n",
            "Epoch 47/100\n",
            "7/7 [==============================] - 0s 10ms/step - loss: 0.5206 - root_mean_squared_error: 0.7152 - val_loss: 0.5253 - val_root_mean_squared_error: 0.7149\n",
            "Epoch 48/100\n",
            "7/7 [==============================] - 0s 11ms/step - loss: 0.5041 - root_mean_squared_error: 0.7151 - val_loss: 0.5282 - val_root_mean_squared_error: 0.7162\n",
            "Epoch 49/100\n",
            "7/7 [==============================] - 0s 10ms/step - loss: 0.5130 - root_mean_squared_error: 0.7152 - val_loss: 0.5310 - val_root_mean_squared_error: 0.7184\n",
            "Epoch 50/100\n",
            "7/7 [==============================] - 0s 12ms/step - loss: 0.5044 - root_mean_squared_error: 0.7150 - val_loss: 0.5295 - val_root_mean_squared_error: 0.7170\n",
            "Epoch 51/100\n",
            "7/7 [==============================] - 0s 11ms/step - loss: 0.5008 - root_mean_squared_error: 0.7153 - val_loss: 0.5298 - val_root_mean_squared_error: 0.7173\n",
            "Epoch 52/100\n",
            "7/7 [==============================] - 0s 10ms/step - loss: 0.5151 - root_mean_squared_error: 0.7150 - val_loss: 0.5347 - val_root_mean_squared_error: 0.7199\n",
            "Epoch 53/100\n",
            "7/7 [==============================] - 0s 11ms/step - loss: 0.5119 - root_mean_squared_error: 0.7152 - val_loss: 0.5336 - val_root_mean_squared_error: 0.7194\n",
            "Epoch 54/100\n",
            "7/7 [==============================] - 0s 10ms/step - loss: 0.5008 - root_mean_squared_error: 0.7148 - val_loss: 0.5322 - val_root_mean_squared_error: 0.7186\n",
            "Epoch 55/100\n",
            "7/7 [==============================] - 0s 10ms/step - loss: 0.5171 - root_mean_squared_error: 0.7150 - val_loss: 0.5325 - val_root_mean_squared_error: 0.7195\n",
            "Epoch 56/100\n",
            "7/7 [==============================] - 0s 11ms/step - loss: 0.5219 - root_mean_squared_error: 0.7156 - val_loss: 0.5331 - val_root_mean_squared_error: 0.7196\n",
            "Epoch 57/100\n",
            "7/7 [==============================] - 0s 10ms/step - loss: 0.5178 - root_mean_squared_error: 0.7155 - val_loss: 0.5322 - val_root_mean_squared_error: 0.7189\n",
            "Epoch 58/100\n",
            "7/7 [==============================] - 0s 10ms/step - loss: 0.5301 - root_mean_squared_error: 0.7154 - val_loss: 0.5350 - val_root_mean_squared_error: 0.7204\n",
            "Epoch 59/100\n",
            "7/7 [==============================] - 0s 11ms/step - loss: 0.5225 - root_mean_squared_error: 0.7150 - val_loss: 0.5285 - val_root_mean_squared_error: 0.7165\n",
            "Epoch 60/100\n",
            "7/7 [==============================] - 0s 10ms/step - loss: 0.5045 - root_mean_squared_error: 0.7151 - val_loss: 0.5293 - val_root_mean_squared_error: 0.7169\n",
            "Epoch 61/100\n",
            "7/7 [==============================] - 0s 10ms/step - loss: 0.5248 - root_mean_squared_error: 0.7152 - val_loss: 0.5302 - val_root_mean_squared_error: 0.7180\n",
            "Epoch 62/100\n",
            "7/7 [==============================] - 0s 11ms/step - loss: 0.5138 - root_mean_squared_error: 0.7152 - val_loss: 0.5304 - val_root_mean_squared_error: 0.7172\n",
            "Epoch 63/100\n",
            "7/7 [==============================] - 0s 10ms/step - loss: 0.5309 - root_mean_squared_error: 0.7149 - val_loss: 0.5323 - val_root_mean_squared_error: 0.7190\n",
            "Epoch 64/100\n",
            "7/7 [==============================] - 0s 10ms/step - loss: 0.5197 - root_mean_squared_error: 0.7152 - val_loss: 0.5291 - val_root_mean_squared_error: 0.7166\n",
            "Epoch 65/100\n",
            "7/7 [==============================] - 0s 10ms/step - loss: 0.5136 - root_mean_squared_error: 0.7151 - val_loss: 0.5284 - val_root_mean_squared_error: 0.7161\n",
            "Epoch 66/100\n",
            "7/7 [==============================] - 0s 10ms/step - loss: 0.5077 - root_mean_squared_error: 0.7151 - val_loss: 0.5302 - val_root_mean_squared_error: 0.7173\n",
            "Epoch 67/100\n",
            "7/7 [==============================] - 0s 10ms/step - loss: 0.5221 - root_mean_squared_error: 0.7153 - val_loss: 0.5288 - val_root_mean_squared_error: 0.7168\n",
            "Epoch 68/100\n",
            "7/7 [==============================] - 0s 11ms/step - loss: 0.5082 - root_mean_squared_error: 0.7150 - val_loss: 0.5344 - val_root_mean_squared_error: 0.7200\n",
            "Epoch 69/100\n",
            "7/7 [==============================] - 0s 11ms/step - loss: 0.5011 - root_mean_squared_error: 0.7149 - val_loss: 0.5309 - val_root_mean_squared_error: 0.7179\n",
            "Epoch 70/100\n",
            "7/7 [==============================] - 0s 11ms/step - loss: 0.5049 - root_mean_squared_error: 0.7149 - val_loss: 0.5286 - val_root_mean_squared_error: 0.7168\n",
            "Epoch 71/100\n",
            "7/7 [==============================] - 0s 10ms/step - loss: 0.5086 - root_mean_squared_error: 0.7148 - val_loss: 0.5351 - val_root_mean_squared_error: 0.7204\n",
            "Epoch 72/100\n",
            "7/7 [==============================] - 0s 11ms/step - loss: 0.4990 - root_mean_squared_error: 0.7151 - val_loss: 0.5276 - val_root_mean_squared_error: 0.7160\n",
            "Epoch 73/100\n",
            "7/7 [==============================] - 0s 10ms/step - loss: 0.5111 - root_mean_squared_error: 0.7151 - val_loss: 0.5293 - val_root_mean_squared_error: 0.7171\n",
            "Epoch 74/100\n",
            "7/7 [==============================] - 0s 10ms/step - loss: 0.5006 - root_mean_squared_error: 0.7152 - val_loss: 0.5316 - val_root_mean_squared_error: 0.7183\n",
            "Epoch 75/100\n",
            "7/7 [==============================] - 0s 11ms/step - loss: 0.5266 - root_mean_squared_error: 0.7155 - val_loss: 0.5285 - val_root_mean_squared_error: 0.7164\n",
            "Epoch 76/100\n",
            "7/7 [==============================] - 0s 10ms/step - loss: 0.5123 - root_mean_squared_error: 0.7152 - val_loss: 0.5272 - val_root_mean_squared_error: 0.7159\n",
            "Epoch 77/100\n",
            "7/7 [==============================] - 0s 10ms/step - loss: 0.5108 - root_mean_squared_error: 0.7153 - val_loss: 0.5308 - val_root_mean_squared_error: 0.7183\n",
            "Epoch 78/100\n",
            "7/7 [==============================] - 0s 10ms/step - loss: 0.5049 - root_mean_squared_error: 0.7150 - val_loss: 0.5311 - val_root_mean_squared_error: 0.7183\n",
            "Epoch 79/100\n",
            "7/7 [==============================] - 0s 11ms/step - loss: 0.5052 - root_mean_squared_error: 0.7152 - val_loss: 0.5276 - val_root_mean_squared_error: 0.7162\n",
            "Epoch 80/100\n",
            "7/7 [==============================] - 0s 10ms/step - loss: 0.5073 - root_mean_squared_error: 0.7151 - val_loss: 0.5368 - val_root_mean_squared_error: 0.7214\n",
            "Epoch 81/100\n",
            "7/7 [==============================] - 0s 12ms/step - loss: 0.4988 - root_mean_squared_error: 0.7158 - val_loss: 0.5306 - val_root_mean_squared_error: 0.7176\n",
            "Epoch 82/100\n",
            "7/7 [==============================] - 0s 11ms/step - loss: 0.5103 - root_mean_squared_error: 0.7150 - val_loss: 0.5318 - val_root_mean_squared_error: 0.7182\n",
            "Epoch 83/100\n",
            "7/7 [==============================] - 0s 11ms/step - loss: 0.5116 - root_mean_squared_error: 0.7150 - val_loss: 0.5285 - val_root_mean_squared_error: 0.7164\n",
            "Epoch 84/100\n",
            "7/7 [==============================] - 0s 11ms/step - loss: 0.5175 - root_mean_squared_error: 0.7148 - val_loss: 0.5313 - val_root_mean_squared_error: 0.7179\n",
            "Epoch 85/100\n",
            "7/7 [==============================] - 0s 10ms/step - loss: 0.5024 - root_mean_squared_error: 0.7148 - val_loss: 0.5322 - val_root_mean_squared_error: 0.7186\n",
            "Epoch 86/100\n",
            "7/7 [==============================] - 0s 10ms/step - loss: 0.5148 - root_mean_squared_error: 0.7152 - val_loss: 0.5276 - val_root_mean_squared_error: 0.7161\n",
            "Epoch 87/100\n",
            "7/7 [==============================] - 0s 12ms/step - loss: 0.5201 - root_mean_squared_error: 0.7149 - val_loss: 0.5341 - val_root_mean_squared_error: 0.7199\n",
            "Epoch 88/100\n",
            "7/7 [==============================] - 0s 10ms/step - loss: 0.5044 - root_mean_squared_error: 0.7154 - val_loss: 0.5303 - val_root_mean_squared_error: 0.7173\n",
            "Epoch 89/100\n",
            "7/7 [==============================] - 0s 10ms/step - loss: 0.4991 - root_mean_squared_error: 0.7151 - val_loss: 0.5286 - val_root_mean_squared_error: 0.7164\n",
            "Epoch 90/100\n",
            "7/7 [==============================] - 0s 10ms/step - loss: 0.5065 - root_mean_squared_error: 0.7149 - val_loss: 0.5284 - val_root_mean_squared_error: 0.7166\n",
            "Epoch 91/100\n",
            "7/7 [==============================] - 0s 11ms/step - loss: 0.5077 - root_mean_squared_error: 0.7149 - val_loss: 0.5333 - val_root_mean_squared_error: 0.7196\n",
            "Epoch 92/100\n",
            "7/7 [==============================] - 0s 11ms/step - loss: 0.5158 - root_mean_squared_error: 0.7151 - val_loss: 0.5267 - val_root_mean_squared_error: 0.7154\n",
            "Epoch 93/100\n",
            "7/7 [==============================] - 0s 12ms/step - loss: 0.4970 - root_mean_squared_error: 0.7150 - val_loss: 0.5276 - val_root_mean_squared_error: 0.7161\n",
            "Epoch 94/100\n",
            "7/7 [==============================] - 0s 11ms/step - loss: 0.5358 - root_mean_squared_error: 0.7150 - val_loss: 0.5302 - val_root_mean_squared_error: 0.7178\n",
            "Epoch 95/100\n",
            "7/7 [==============================] - 0s 10ms/step - loss: 0.4984 - root_mean_squared_error: 0.7156 - val_loss: 0.5266 - val_root_mean_squared_error: 0.7156\n",
            "Epoch 96/100\n",
            "7/7 [==============================] - 0s 10ms/step - loss: 0.5065 - root_mean_squared_error: 0.7153 - val_loss: 0.5268 - val_root_mean_squared_error: 0.7153\n",
            "Epoch 97/100\n",
            "7/7 [==============================] - 0s 10ms/step - loss: 0.5169 - root_mean_squared_error: 0.7151 - val_loss: 0.5292 - val_root_mean_squared_error: 0.7171\n",
            "Epoch 98/100\n",
            "7/7 [==============================] - 0s 10ms/step - loss: 0.5038 - root_mean_squared_error: 0.7156 - val_loss: 0.5277 - val_root_mean_squared_error: 0.7163\n",
            "Epoch 99/100\n",
            "7/7 [==============================] - 0s 12ms/step - loss: 0.5089 - root_mean_squared_error: 0.7149 - val_loss: 0.5267 - val_root_mean_squared_error: 0.7154\n",
            "Epoch 100/100\n",
            "7/7 [==============================] - 0s 10ms/step - loss: 0.4968 - root_mean_squared_error: 0.7148 - val_loss: 0.5280 - val_root_mean_squared_error: 0.7163\n",
            "0.8077954053878784\n"
          ],
          "name": "stdout"
        },
        {
          "output_type": "display_data",
          "data": {
            "image/png": "[encoded data removed]",
            "text/plain": [
              "<Figure size 432x288 with 1 Axes>"
            ]
          },
          "metadata": {
            "tags": []
          }
        },
        {
          "output_type": "stream",
          "text": [
            "\n",
            " Evaluate the linear regression model against the test set:\n",
            "4/4 [==============================] - 0s 2ms/step - loss: 0.4858 - root_mean_squared_error: 0.7276\n"
          ],
          "name": "stdout"
        },
        {
          "output_type": "execute_result",
          "data": {
            "text/plain": [
              "[0.4858439564704895, 0.727607250213623]"
            ]
          },
          "metadata": {
            "tags": []
          },
          "execution_count": 11
        }
      ]
    }
  ]
}