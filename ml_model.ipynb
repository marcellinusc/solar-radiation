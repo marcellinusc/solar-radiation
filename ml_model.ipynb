{
  "nbformat": 4,
  "nbformat_minor": 0,
  "metadata": {
    "colab": {
      "name": "ml-model.ipynb",
      "provenance": [],
      "authorship_tag": "ABX9TyMrMXkjjGRAiQtfbiS2yAUb",
      "include_colab_link": true
    },
    "kernelspec": {
      "name": "python3",
      "display_name": "Python 3"
    }
  },
  "cells": [
    {
      "cell_type": "markdown",
      "metadata": {
        "id": "view-in-github",
        "colab_type": "text"
      },
      "source": [
        "<a href=\"https://colab.research.google.com/github/marcellinusc/solar-radiation/blob/data-prep/ml_model.ipynb\" target=\"_parent\"><img src=\"https://colab.research.google.com/assets/colab-badge.svg\" alt=\"Open In Colab\"/></a>"
      ]
    },
    {
      "cell_type": "code",
      "metadata": {
        "id": "V4PdA4irqEaK",
        "colab_type": "code",
        "colab": {},
        "cellView": "form"
      },
      "source": [
        "#@title Run on TensorFlow 2.x\n",
        "\n",
        "%tensorflow_version 2.x\n",
        "from __future__ import absolute_import, division\n",
        "from __future__ import print_function, unicode_literals"
      ],
      "execution_count": 0,
      "outputs": []
    },
    {
      "cell_type": "code",
      "metadata": {
        "id": "Rbg1PDRauaer",
        "colab_type": "code",
        "colab": {},
        "cellView": "form"
      },
      "source": [
        "#@title Import relevant modules\n",
        "\n",
        "import numpy as np\n",
        "import pandas as pd\n",
        "import seaborn as sns\n",
        "import tensorflow as tf\n",
        "from tensorflow.keras import layers\n",
        "from matplotlib import pyplot as plt\n",
        "\n",
        "# The following lines adjust the granularity of reporting. \n",
        "pd.options.display.max_rows = 10\n",
        "pd.options.display.float_format = \"{:.1f}\".format\n",
        "\n",
        "print('Imported')"
      ],
      "execution_count": 0,
      "outputs": []
    },
    {
      "cell_type": "code",
      "metadata": {
        "id": "WBYWKNU-xda8",
        "colab_type": "code",
        "colab": {},
        "cellView": "form"
      },
      "source": [
        "#@title Load raw dataset\n",
        "data = pd.read_csv('https://raw.githubusercontent.com/marcellinusc/solar-radiation/data-prep/datasets.csv')\n",
        "print('Dataset length:', str(len(data)))"
      ],
      "execution_count": 0,
      "outputs": []
    },
    {
      "cell_type": "code",
      "metadata": {
        "id": "1T2D3iiPyA9K",
        "colab_type": "code",
        "colab": {},
        "cellView": "form"
      },
      "source": [
        "#@title Exclude raw data between sunset-sunrise\n",
        "\n",
        "daylight = [data['Time'].values[x] > data['Sunrise'].values[x]\n",
        "            and data['Time'].values[x] < data['Sunset'].values[x]\n",
        "            for x in range(len(data))]\n",
        "data['Daylight'] = daylight\n",
        "data['Daylight'] = data['Daylight'].astype('float')\n",
        "\n",
        "# Clean raw dataset from daylight value of 0\n",
        "data = data[data.Daylight != 0]\n",
        "\n",
        "print('Dataset length:', str(len(data)))"
      ],
      "execution_count": 0,
      "outputs": []
    },
    {
      "cell_type": "code",
      "metadata": {
        "id": "HCXskDyrOKil",
        "colab_type": "code",
        "colab": {},
        "cellView": "form"
      },
      "source": [
        "#@title Convert UNIX time format to UTC\n",
        "\n",
        "data[\"TimeConversion\"] = pd.to_datetime(data[\"Time\"], format=\"%H:%M:%S\")\n",
        "\n",
        "# Get the month of the year and the day of the month\n",
        "data[\"Month\"] = pd.to_datetime(data[\"UNIXTime\"].astype(int),\n",
        "                               unit=\"s\").dt.month\n",
        "data[\"Day\"] = pd.to_datetime(data[\"UNIXTime\"].astype(int),\n",
        "                             unit=\"s\").dt.day \n",
        "\n",
        "# Get the hour and the minute of the day\n",
        "data[\"Hour\"] = pd.to_datetime(data[\"TimeConversion\"],\n",
        "                              format=\"%H:%M:%S\").dt.hour\n",
        "data[\"Minute\"] = pd.to_datetime(data[\"TimeConversion\"],\n",
        "                              format=\"%H:%M:%S\").dt.minute\n",
        "\n",
        "print('Converted')"
      ],
      "execution_count": 0,
      "outputs": []
    },
    {
      "cell_type": "code",
      "metadata": {
        "id": "hzjfIldM8FeD",
        "colab_type": "code",
        "colab": {},
        "cellView": "form"
      },
      "source": [
        "#@title Divide clean dataset into training set and test set\n",
        "\n",
        "# Sort dataset in descending order from the latest to the earliest\n",
        "data['Data'] = pd.to_datetime(data['Data'])\n",
        "data = data.sort_values(by=['Data', 'Time'], ascending=False)\n",
        "\n",
        "# Percentage of dataset to be considered as test set\n",
        "test_split = 0.2\n",
        "data_test = data[:][0:round((len(data)*test_split))]\n",
        "data_train = data[:][round((len(data)*test_split)):]\n",
        "# Shuffle training set\n",
        "data_train = data_train.reindex(np.random.permutation(data_train.index))\n",
        "\n",
        "print('Training set length:', str(len(data_train)),\n",
        "      '\\nTest set length:', str(len(data_test)))"
      ],
      "execution_count": 0,
      "outputs": []
    },
    {
      "cell_type": "code",
      "metadata": {
        "id": "UontCGSpBWgb",
        "colab_type": "code",
        "colab": {},
        "cellView": "form"
      },
      "source": [
        "#@title Normalization\n",
        "\n",
        "# Calculate the Z-scores of each column in the training set:\n",
        "data_train_mean = data_train.select_dtypes(include=['float64', 'int64']).mean()\n",
        "data_train_std = data_train.select_dtypes(include=['float64', 'int64']).std()\n",
        "data_train_norm = (data_train.select_dtypes(include=['float64', 'int64']) \n",
        "                   - data_train_mean)/data_train_std\n",
        "\n",
        "# Calculate the Z-scores of each column in the test set.\n",
        "data_test_mean = data_test.select_dtypes(include=['float64', 'int64']).mean()\n",
        "data_test_std = data_test.select_dtypes(include=['float64', 'int64']).std()\n",
        "data_test_norm = (data_test.select_dtypes(include=['float64', 'int64'])\n",
        "                  - data_test_mean)/data_test_std\n",
        "\n",
        "print(\"Normalized\")"
      ],
      "execution_count": 0,
      "outputs": []
    }
  ]
}